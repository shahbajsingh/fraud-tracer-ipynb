{
 "cells": [
  {
   "cell_type": "code",
   "execution_count": 201,
   "id": "842725be",
   "metadata": {},
   "outputs": [],
   "source": [
    "import pandas as pd\n",
    "import numpy as np\n",
    "import datetime\n",
    "\n",
    "df = pd.read_csv('input.csv', header=None)\n",
    "output = []"
   ]
  },
  {
   "cell_type": "code",
   "execution_count": 202,
   "id": "875458c8",
   "metadata": {},
   "outputs": [],
   "source": [
    "df.set_axis(['date','id','event'],axis=1,inplace=True)\n",
    "df['date'] = pd.to_datetime(df['date'])"
   ]
  },
  {
   "cell_type": "code",
   "execution_count": 203,
   "id": "c5b53f20",
   "metadata": {},
   "outputs": [],
   "source": [
    "PURCHASE = 'PURCHASE'\n",
    "FRAUD_REPORT = 'FRAUD_REPORT'\n",
    "\n",
    "CAH = dict.fromkeys(['NO_HISTORY','FRAUD_HISTORY',\n",
    "                           'GOOD_HISTORY', 'UNCONFIRMED_HISTORY'])\n",
    "\n",
    "for key in CAH:\n",
    "    CAH[key] = []\n",
    "\n",
    "for ID in list(set(df['id'])):\n",
    "    CAH['NO_HISTORY'].append(ID)"
   ]
  },
  {
   "cell_type": "code",
   "execution_count": 204,
   "id": "8940fbdf",
   "metadata": {},
   "outputs": [],
   "source": [
    "IDlist = list(set(df['id']))\n",
    "df2 = pd.DataFrame(np.zeros(shape=(3, len(IDlist))), columns=IDlist,\n",
    "                   index=['fraud_history', 'good_history', 'unconfirmed_history'])"
   ]
  },
  {
   "cell_type": "code",
   "execution_count": 205,
   "id": "1af18de3",
   "metadata": {},
   "outputs": [],
   "source": [
    "datedict = dict.fromkeys(list(df['id']))\n",
    "\n",
    "for key in datedict:\n",
    "    datedict[key] = []"
   ]
  },
  {
   "cell_type": "code",
   "execution_count": 206,
   "id": "856cf522",
   "metadata": {},
   "outputs": [],
   "source": [
    "def classify(index):\n",
    "    ID = df.iloc[index].id\n",
    "    event = df.iloc[index].event\n",
    "    \n",
    "    if event == PURCHASE:\n",
    "        updateDate(index)\n",
    "        \n",
    "        if ID in CAH['NO_HISTORY']:\n",
    "            CAH['NO_HISTORY'].remove(ID)\n",
    "            CAH['UNCONFIRMED_HISTORY'].append(ID)\n",
    "            \n",
    "    elif event == FRAUD_REPORT:\n",
    "        \n",
    "        if ID in CAH['NO_HISTORY']:\n",
    "            CAH['NO_HISTORY'].remove(ID)\n",
    "            CAH['FRAUD_HISTORY'].append(ID)\n",
    "\n",
    "        elif ID in CAH['GOOD_HISTORY']:\n",
    "            CAH['GOOD_HISTORY'].remove(ID)\n",
    "            if ID not in CAH['FRAUD_HISTORY']:        \n",
    "                CAH['FRAUD_HISTORY'].append(ID)\n",
    "            \n",
    "        elif ID in CAH['UNCONFIRMED_HISTORY']:\n",
    "            CAH['UNCONFIRMED_HISTORY'].remove(ID)\n",
    "            if ID not in CAH['FRAUD_HISTORY']:\n",
    "                CAH['FRAUD_HISTORY'].append(ID)\n",
    "        \n",
    "        df2.loc['fraud_history', ID] += 1\n",
    "\n",
    "    else:\n",
    "        CAH['NO_HISTORY'].append(ID)"
   ]
  },
  {
   "cell_type": "code",
   "execution_count": 207,
   "id": "b86382d6",
   "metadata": {},
   "outputs": [],
   "source": [
    "def writeStatus(index):\n",
    "    ID = df.iloc[index].id\n",
    "    date = df.iloc[index].date\n",
    "    \n",
    "    \n",
    "    if ID in CAH['NO_HISTORY']:\n",
    "        output.append([date.date(), ID, 'NO_HISTORY'])\n",
    "            \n",
    "    elif ID in CAH['FRAUD_HISTORY']:\n",
    "        output.append([date.date(), ID, 'FRAUD_HISTORY:', \n",
    "                       df2.loc['fraud_history', ID]])\n",
    "\n",
    "\n",
    "    elif ID in CAH['GOOD_HISTORY']:\n",
    "        output.append([date.date(), ID, 'FRAUD_HISTORY:', \n",
    "                       df2.loc['good_history', ID]])\n",
    "            \n",
    "    elif ID in CAH['UNCONFIRMED_HISTORY']:\n",
    "        output.append([date.date(), ID, 'FRAUD_HISTORY:', \n",
    "                       df2.loc['unconfirmed_history', ID]])"
   ]
  },
  {
   "cell_type": "code",
   "execution_count": 208,
   "id": "b5d89dea",
   "metadata": {},
   "outputs": [],
   "source": [
    "def updateDate(index):\n",
    "    ID = df.iloc[index].id\n",
    "    currdate = df.iloc[index].date\n",
    "\n",
    "    if ID not in CAH['FRAUD_HISTORY']:\n",
    "        if(len(datedict[ID]) > 0):\n",
    "            for date in datedict[ID]:\n",
    "                if(currdate - date) > datetime.timedelta(days=90):\n",
    "                    df2.loc['unconfirmed_history', ID] -= 1\n",
    "                    df2.loc['good_history', ID] += 1\n",
    "                    datedict[ID].remove(date)\n",
    "\n",
    "                    if ID not in CAH['GOOD_HISTORY']:\n",
    "                        CAH['GOOD_HISTORY'].append(ID)\n",
    "                    if ID in CAH['UNCONFIRMED_HISTORY']:\n",
    "                        CAH['UNCONFIRMED_HISTORY'].remove(ID)\n",
    "\n",
    "    writeStatus(index)\n",
    "    \n",
    "    datedict[ID].append(currdate)            \n",
    "    df2.loc['unconfirmed_history', ID] += 1"
   ]
  },
  {
   "cell_type": "code",
   "execution_count": 209,
   "id": "68fe4a76",
   "metadata": {},
   "outputs": [],
   "source": [
    "for i in range(len(list(df['date']))):\n",
    "    classify(i)"
   ]
  },
  {
   "cell_type": "code",
   "execution_count": 210,
   "id": "bd7db4c2",
   "metadata": {},
   "outputs": [],
   "source": [
    "df_o = pd.DataFrame(output)\n",
    "df_o.to_csv('output.csv', index=False, header=False)"
   ]
  },
  {
   "cell_type": "code",
   "execution_count": null,
   "id": "821440d1",
   "metadata": {},
   "outputs": [],
   "source": []
  }
 ],
 "metadata": {
  "kernelspec": {
   "display_name": "Python 3 (ipykernel)",
   "language": "python",
   "name": "python3"
  },
  "language_info": {
   "codemirror_mode": {
    "name": "ipython",
    "version": 3
   },
   "file_extension": ".py",
   "mimetype": "text/x-python",
   "name": "python",
   "nbconvert_exporter": "python",
   "pygments_lexer": "ipython3",
   "version": "3.10.4"
  }
 },
 "nbformat": 4,
 "nbformat_minor": 5
}
