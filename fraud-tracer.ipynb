{
 "cells": [
  {
   "cell_type": "markdown",
   "id": "2c268a6a",
   "metadata": {},
   "source": [
    "## Introduction\n",
    "\n",
    "<p>One useful data point in detecting fraud is the account history of a customer.\n",
    "For an account, we receive notification of purchases and sometimes reports of fraud. \n",
    "Typically, a prior report of fraud for an account would increase the perceied risk of fraud on future transactions.</p>\n",
    "\n",
    "<p>Similarly, a history of non-fraudulent purchases for an account would decrease the risk of fraud.\n",
    "A credit card holder has 90 days to report any fraudulent transactions with the card.\n",
    "So, if an account has purchases over 90 days old and no reports of fraud, we assume that these older purchases were not fraudulent.</p>\n",
    "\n",
    "\n",
    "## Describing the Problem\n",
    "\n",
    "<p>The purpose of this programming problem is to determine the status of a customer account history at the time a new purchase is made.</p>\n",
    "\n",
    "<p>The input is a sequence of customer account events, in chronological order. Each event has three fields, all of which are of string type</p> \n",
    "\n",
    "<code>&lt;DATE&gt;, &lt;CUSTOMER_ACCOUNT_ID&gt;, &lt;EVENT_TYPE&gt;</code>\n",
    "    \n",
    "\n",
    "<p>For example:</p>\n",
    "\n",
    "<ul style=\"list-style-type:none;\">\n",
    "    <li><code>2015-01-01,joe@signifyd.com,PURCHASE</code></li>\n",
    "    <li><code>2015-02-01,fraudster@fraud.com,FRAUD_REPORT</code></li>\n",
    "</ul>\n",
    "\n",
    "<div>\n",
    "<p>There are two event types</p>\n",
    "    <ol>\n",
    "        <li><code>PURCASE</code> - indicates a purchase by this customer account on the specified date.</li>\n",
    "        <li><code>FRAUD_REPORT</code> - indicates we received a report of fraud associated with this customer account. The specified date is that date that we received the report, not the date the fraud was committed.</li>\n",
    "    </ol>\n",
    "</div>\n",
    "\n",
    "<p>For each event <code>PURCHASE</code>, we are interested in a summary of the customer account history based on prior events. The summary consists of the date of the summary, the customer account ID, and a status.</p>\n",
    "<br />\n",
    "<div>\n",
    "<p>There are four possible values for the status of the customer account history:</p>\n",
    "    <ol>\n",
    "        <li><code>NO_HISTORY</code> - there are no prior events for this customer account</li>\n",
    "        <li><code>FRAUD_HISTORY</code> - we have at least one event <code>FRAUD_REPORT</code> for this customer account</li>\n",
    "        <li><code>GOOD_HISTORY</code> - customer account has no <code>FRAUD_REPORT</code> and at least one prior that <code>PURCHASE</code> is more than 90 days old</li>\n",
    "        <li><code>UNCONFIRMED_HISTORY</code> - customer account has no <code>FRAUD_REPORT</code> and at least one prior <code>PURCHASE</code> but no <code>PURCHASE</code> over 90 days old</li>\n",
    "    </ol>\n",
    "</div>\n",
    "\n",
    "<p>For accounts with <code>FRAUD_HISTORY</code>, <code>GOOD_HISTORY</code>, and <code>UNCONFIRMED_HISTORY</code>, the status also contains a count of relevant events.</p>\n",
    "<ul style=\"list-style-type:none;\">\n",
    "    <li><code>FRAUD_HISTORY</code> - count of <code>FRAUD_REPORT</code></li>\n",
    "    <li><code>GOOD_HISTORY</code> - count of prior <code>PURCHASE</code> over 90 days old</li>\n",
    "    <li><code>UNCONFIRMED_HISTORY</code> - count of prior <code>PURCHASE</code></li>\n",
    "</ul>\n",
    "<p>The output is expected to be in the same order as the input</p>"
   ]
  },
  {
   "cell_type": "markdown",
   "id": "52fe4e3c",
   "metadata": {},
   "source": [
    "## Sample Input and Output\n",
    "\n",
    "<p>For the following input:</p>\n",
    "\n",
    "<ul style=\"list-style-type:none;\">\n",
    "    <li><code>2015-01-01,joe@signifyd.com,PURCHASE</code></li>\n",
    "    <li><code>2015-02-01,fraudster@fraud.com,FRAUD_REPORT</code></li>\n",
    "    <li><code>2015-02-03,fraudster@fraud.com,FRAUD_REPORT</code></li>\n",
    "    <li><code>2015-02-10,joe@signifyd.com,PURCHASE</code></li>\n",
    "    <li><code>2015-02-14,fraudster@fraud.com,PURCHASE</code></li>\n",
    "    <li><code>2015-03-15,joe@signifyd.com,PURCHASE</code></li>\n",
    "    <li><code>2015-05-01,joe@signifyd.com,PURCHASE</code></li>\n",
    "    <li><code>2015-10-01,joe@signifyd.com,PURCHASE</code></li>\n",
    "</ul>\n",
    "<br />\n",
    "<ul style=\"list-style-type:none;\">\n",
    "    <li><code>2015-01-01,joe@signifyd.com,NO_HISTORY</code></li>\n",
    "    <li><code>2015-02-10,joe@signifyd.com,UNCONFIRMED_HISTORY:1</code></li>\n",
    "    <li><code>2015-02-14,fraudster@fraud.com,FRAUD_HISTORY:2</code></li>\n",
    "    <li><code>2015-03-15,joe@signifyd.com,UNCONFIRMED_HISTORY:2</code></li>\n",
    "    <li><code>2015-05-01,joe@signifyd.com,GOOD_HISTORY:1</code></li>\n",
    "    <li><code>2015-10-01,joe@signifyd.com,GOOD_HISTORY:4</code></li>\n",
    "</ul>"
   ]
  },
  {
   "cell_type": "code",
   "execution_count": 2,
   "id": "5d5abc67",
   "metadata": {},
   "outputs": [
    {
     "name": "stdout",
     "output_type": "stream",
     "text": [
      "['2015-01-01', 'joe@signifyd.com', 'PURCHASE']\n",
      "['2015-02-01', 'fraudster@fraud.com', 'FRAUD_REPORT']\n",
      "['2015-02-03', 'fraudster@fraud.com', 'FRAUD_REPORT']\n",
      "['2015-02-10', 'joe@signifyd.com', 'PURCHASE']\n",
      "['2015-02-14', 'fraudster@fraud.com', 'PURCHASE']\n",
      "['2015-03-15', 'joe@signifyd.com', 'PURCHASE']\n",
      "['2015-05-01', 'joe@signifyd.com', 'PURCHASE']\n",
      "['2015-10-01', 'joe@signifyd.com', 'PURCHASE']\n"
     ]
    }
   ],
   "source": [
    "from csv import reader\n",
    "\n",
    "# open file in read mode\n",
    "\n",
    "with open('input.csv', 'r') as read_obj:\n",
    "    # pass file object to reader() to get the reader object\n",
    "    csv_reader = reader(read_obj)\n",
    "    \n",
    "    # iterate over each row in the csv using reader object\n",
    "    for row in csv_reader:\n",
    "        # row variable is a list that represents a row in csv\n",
    "        print(row)"
   ]
  },
  {
   "cell_type": "code",
   "execution_count": null,
   "id": "afa069fd",
   "metadata": {},
   "outputs": [],
   "source": []
  }
 ],
 "metadata": {
  "kernelspec": {
   "display_name": "Python 3 (ipykernel)",
   "language": "python",
   "name": "python3"
  },
  "language_info": {
   "codemirror_mode": {
    "name": "ipython",
    "version": 3
   },
   "file_extension": ".py",
   "mimetype": "text/x-python",
   "name": "python",
   "nbconvert_exporter": "python",
   "pygments_lexer": "ipython3",
   "version": "3.10.4"
  }
 },
 "nbformat": 4,
 "nbformat_minor": 5
}
