{
 "cells": [
  {
   "cell_type": "markdown",
   "id": "2c268a6a",
   "metadata": {},
   "source": [
    "## Introduction\n",
    "\n",
    "<p>One useful data point in detecting fraud is the account history of a customer.\n",
    "For an account, we receive notification of purchases and sometimes reports of fraud. \n",
    "Typically, a prior report of fraud for an account would increase the perceied risk of fraud on future transactions.</p>\n",
    "\n",
    "<p>Similarly, a history of non-fraudulent purchases for an account would decrease the risk of fraud.\n",
    "A credit card holder has 90 days to report any fraudulent transactions with the card.\n",
    "So, if an account has purchases over 90 days old and no reports of fraud, we assume that these older purchases were not fraudulent.</p>\n",
    "\n",
    "\n",
    "## Describing the Problem\n",
    "\n",
    "<p>The purpose of this programming problem is to determine the status of a customer account history at the time a new purchase is made.</p>\n",
    "\n",
    "<p>The input is a sequence of customer account events, in chronological order. Each event has three fields, all of which are of string type</p> \n",
    "\n",
    "<code>&lt;DATE&gt;, &lt;CUSTOMER_ACCOUNT_ID&gt;, &lt;EVENT_TYPE&gt;</code>\n",
    "    \n",
    "\n",
    "<p>For example:</p>\n",
    "\n",
    "<ul style=\"list-style-type:none;\">\n",
    "    <li><code>2015-01-01,joe@signifyd.com,PURCHASE</code></li>\n",
    "    <li><code>2015-02-01,fraudster@fraud.com,FRAUD_REPORT</code></li>\n",
    "</ul>\n",
    "\n",
    "<div>\n",
    "<p>There are two event types</p>\n",
    "    <ol>\n",
    "        <li><code>PURCHASE</code> - indicates a purchase by this customer account on the specified date.</li>\n",
    "        <li><code>FRAUD_REPORT</code> - indicates we received a report of fraud associated with this customer account. The specified date is that date that we received the report, not the date the fraud was committed.</li>\n",
    "    </ol>\n",
    "</div>\n",
    "\n",
    "<p>For each event <code>PURCHASE</code>, we are interested in a summary of the customer account history based on prior events. The summary consists of the date of the summary, the customer account ID, and a status.</p>\n",
    "<br />\n",
    "<div>\n",
    "<p>There are four possible values for the status of the customer account history:</p>\n",
    "    <ol>\n",
    "        <li><code>NO_HISTORY</code> - there are no prior events for this customer account</li>\n",
    "        <li><code>FRAUD_HISTORY</code> - we have at least one event <code>FRAUD_REPORT</code> for this customer account</li>\n",
    "        <li><code>GOOD_HISTORY</code> - customer account has no <code>FRAUD_REPORT</code> and at least one prior that <code>PURCHASE</code> is more than 90 days old</li>\n",
    "        <li><code>UNCONFIRMED_HISTORY</code> - customer account has no <code>FRAUD_REPORT</code> and at least one prior <code>PURCHASE</code> but no <code>PURCHASE</code> over 90 days old</li>\n",
    "    </ol>\n",
    "</div>\n",
    "\n",
    "<p>For accounts with <code>FRAUD_HISTORY</code>, <code>GOOD_HISTORY</code>, and <code>UNCONFIRMED_HISTORY</code>, the status also contains a count of relevant events.</p>\n",
    "<ul style=\"list-style-type:none;\">\n",
    "    <li><code>FRAUD_HISTORY</code> - count of <code>FRAUD_REPORT</code></li>\n",
    "    <li><code>GOOD_HISTORY</code> - count of prior <code>PURCHASE</code> over 90 days old</li>\n",
    "    <li><code>UNCONFIRMED_HISTORY</code> - count of prior <code>PURCHASE</code></li>\n",
    "</ul>\n",
    "<p>The output is expected to be in the same order as the input</p>"
   ]
  },
  {
   "cell_type": "markdown",
   "id": "52fe4e3c",
   "metadata": {},
   "source": [
    "## Sample Input and Output\n",
    "\n",
    "<p>For the following input:</p>\n",
    "\n",
    "<ul style=\"list-style-type:none;\">\n",
    "    <li><code>2015-01-01,joe@signifyd.com,PURCHASE</code></li>\n",
    "    <li><code>2015-02-01,fraudster@fraud.com,FRAUD_REPORT</code></li>\n",
    "    <li><code>2015-02-03,fraudster@fraud.com,FRAUD_REPORT</code></li>\n",
    "    <li><code>2015-02-10,joe@signifyd.com,PURCHASE</code></li>\n",
    "    <li><code>2015-02-14,fraudster@fraud.com,PURCHASE</code></li>\n",
    "    <li><code>2015-03-15,joe@signifyd.com,PURCHASE</code></li>\n",
    "    <li><code>2015-05-01,joe@signifyd.com,PURCHASE</code></li>\n",
    "    <li><code>2015-10-01,joe@signifyd.com,PURCHASE</code></li>\n",
    "</ul>\n",
    "<br />\n",
    "<ul style=\"list-style-type:none;\">\n",
    "    <li><code>2015-01-01,joe@signifyd.com,NO_HISTORY</code></li>\n",
    "    <li><code>2015-02-10,joe@signifyd.com,UNCONFIRMED_HISTORY:1</code></li>\n",
    "    <li><code>2015-02-14,fraudster@fraud.com,FRAUD_HISTORY:2</code></li>\n",
    "    <li><code>2015-03-15,joe@signifyd.com,UNCONFIRMED_HISTORY:2</code></li>\n",
    "    <li><code>2015-05-01,joe@signifyd.com,GOOD_HISTORY:1</code></li>\n",
    "    <li><code>2015-10-01,joe@signifyd.com,GOOD_HISTORY:4</code></li>\n",
    "</ul>"
   ]
  },
  {
   "cell_type": "code",
   "execution_count": 1,
   "id": "5d5abc67",
   "metadata": {},
   "outputs": [
    {
     "name": "stdout",
     "output_type": "stream",
     "text": [
      "['2015-01-01', 'joe@signifyd.com', 'PURCHASE']\n",
      "['2015-02-01', 'fraudster@fraud.com', 'FRAUD_REPORT']\n",
      "['2015-02-03', 'fraudster@fraud.com', 'FRAUD_REPORT']\n",
      "['2015-02-10', 'joe@signifyd.com', 'PURCHASE']\n",
      "['2015-02-14', 'fraudster@fraud.com', 'PURCHASE']\n",
      "['2015-03-15', 'joe@signifyd.com', 'PURCHASE']\n",
      "['2015-05-01', 'joe@signifyd.com', 'PURCHASE']\n",
      "['2015-10-01', 'joe@signifyd.com', 'PURCHASE']\n"
     ]
    }
   ],
   "source": [
    "from csv import reader\n",
    "\n",
    "# open file in read mode\n",
    "\n",
    "with open('input.csv', 'r') as read_obj:\n",
    "    # pass file object to reader() to get the reader object\n",
    "    csv_reader = reader(read_obj)\n",
    "    \n",
    "    # iterate over each row in the csv using reader object\n",
    "    for row in csv_reader:\n",
    "        # row variable is a list that represents a row in csv\n",
    "        print(row)"
   ]
  },
  {
   "cell_type": "markdown",
   "id": "077c8135",
   "metadata": {},
   "source": [
    "<i>Use pandas to store this input into a dataframe</i>"
   ]
  },
  {
   "cell_type": "code",
   "execution_count": 2,
   "id": "f939245b",
   "metadata": {},
   "outputs": [
    {
     "data": {
      "text/html": [
       "<div>\n",
       "<style scoped>\n",
       "    .dataframe tbody tr th:only-of-type {\n",
       "        vertical-align: middle;\n",
       "    }\n",
       "\n",
       "    .dataframe tbody tr th {\n",
       "        vertical-align: top;\n",
       "    }\n",
       "\n",
       "    .dataframe thead th {\n",
       "        text-align: right;\n",
       "    }\n",
       "</style>\n",
       "<table border=\"1\" class=\"dataframe\">\n",
       "  <thead>\n",
       "    <tr style=\"text-align: right;\">\n",
       "      <th></th>\n",
       "      <th>0</th>\n",
       "      <th>1</th>\n",
       "      <th>2</th>\n",
       "    </tr>\n",
       "  </thead>\n",
       "  <tbody>\n",
       "    <tr>\n",
       "      <th>0</th>\n",
       "      <td>2015-01-01</td>\n",
       "      <td>joe@signifyd.com</td>\n",
       "      <td>PURCHASE</td>\n",
       "    </tr>\n",
       "    <tr>\n",
       "      <th>1</th>\n",
       "      <td>2015-02-01</td>\n",
       "      <td>fraudster@fraud.com</td>\n",
       "      <td>FRAUD_REPORT</td>\n",
       "    </tr>\n",
       "    <tr>\n",
       "      <th>2</th>\n",
       "      <td>2015-02-03</td>\n",
       "      <td>fraudster@fraud.com</td>\n",
       "      <td>FRAUD_REPORT</td>\n",
       "    </tr>\n",
       "    <tr>\n",
       "      <th>3</th>\n",
       "      <td>2015-02-10</td>\n",
       "      <td>joe@signifyd.com</td>\n",
       "      <td>PURCHASE</td>\n",
       "    </tr>\n",
       "    <tr>\n",
       "      <th>4</th>\n",
       "      <td>2015-02-14</td>\n",
       "      <td>fraudster@fraud.com</td>\n",
       "      <td>PURCHASE</td>\n",
       "    </tr>\n",
       "    <tr>\n",
       "      <th>5</th>\n",
       "      <td>2015-03-15</td>\n",
       "      <td>joe@signifyd.com</td>\n",
       "      <td>PURCHASE</td>\n",
       "    </tr>\n",
       "    <tr>\n",
       "      <th>6</th>\n",
       "      <td>2015-05-01</td>\n",
       "      <td>joe@signifyd.com</td>\n",
       "      <td>PURCHASE</td>\n",
       "    </tr>\n",
       "    <tr>\n",
       "      <th>7</th>\n",
       "      <td>2015-10-01</td>\n",
       "      <td>joe@signifyd.com</td>\n",
       "      <td>PURCHASE</td>\n",
       "    </tr>\n",
       "  </tbody>\n",
       "</table>\n",
       "</div>"
      ],
      "text/plain": [
       "            0                    1             2\n",
       "0  2015-01-01     joe@signifyd.com      PURCHASE\n",
       "1  2015-02-01  fraudster@fraud.com  FRAUD_REPORT\n",
       "2  2015-02-03  fraudster@fraud.com  FRAUD_REPORT\n",
       "3  2015-02-10     joe@signifyd.com      PURCHASE\n",
       "4  2015-02-14  fraudster@fraud.com      PURCHASE\n",
       "5  2015-03-15     joe@signifyd.com      PURCHASE\n",
       "6  2015-05-01     joe@signifyd.com      PURCHASE\n",
       "7  2015-10-01     joe@signifyd.com      PURCHASE"
      ]
     },
     "execution_count": 2,
     "metadata": {},
     "output_type": "execute_result"
    }
   ],
   "source": [
    "import pandas as pd\n",
    "\n",
    "df = pd.read_csv('input.csv', header=None)\n",
    "df"
   ]
  },
  {
   "cell_type": "markdown",
   "id": "5ab3968c",
   "metadata": {},
   "source": [
    "<i>Let's add a header for clarity and view the dataframe head</i>"
   ]
  },
  {
   "cell_type": "code",
   "execution_count": 3,
   "id": "86d919b9",
   "metadata": {},
   "outputs": [
    {
     "data": {
      "text/html": [
       "<div>\n",
       "<style scoped>\n",
       "    .dataframe tbody tr th:only-of-type {\n",
       "        vertical-align: middle;\n",
       "    }\n",
       "\n",
       "    .dataframe tbody tr th {\n",
       "        vertical-align: top;\n",
       "    }\n",
       "\n",
       "    .dataframe thead th {\n",
       "        text-align: right;\n",
       "    }\n",
       "</style>\n",
       "<table border=\"1\" class=\"dataframe\">\n",
       "  <thead>\n",
       "    <tr style=\"text-align: right;\">\n",
       "      <th></th>\n",
       "      <th>date</th>\n",
       "      <th>id</th>\n",
       "      <th>event</th>\n",
       "    </tr>\n",
       "  </thead>\n",
       "  <tbody>\n",
       "    <tr>\n",
       "      <th>0</th>\n",
       "      <td>2015-01-01</td>\n",
       "      <td>joe@signifyd.com</td>\n",
       "      <td>PURCHASE</td>\n",
       "    </tr>\n",
       "    <tr>\n",
       "      <th>1</th>\n",
       "      <td>2015-02-01</td>\n",
       "      <td>fraudster@fraud.com</td>\n",
       "      <td>FRAUD_REPORT</td>\n",
       "    </tr>\n",
       "    <tr>\n",
       "      <th>2</th>\n",
       "      <td>2015-02-03</td>\n",
       "      <td>fraudster@fraud.com</td>\n",
       "      <td>FRAUD_REPORT</td>\n",
       "    </tr>\n",
       "    <tr>\n",
       "      <th>3</th>\n",
       "      <td>2015-02-10</td>\n",
       "      <td>joe@signifyd.com</td>\n",
       "      <td>PURCHASE</td>\n",
       "    </tr>\n",
       "    <tr>\n",
       "      <th>4</th>\n",
       "      <td>2015-02-14</td>\n",
       "      <td>fraudster@fraud.com</td>\n",
       "      <td>PURCHASE</td>\n",
       "    </tr>\n",
       "  </tbody>\n",
       "</table>\n",
       "</div>"
      ],
      "text/plain": [
       "        date                   id         event\n",
       "0 2015-01-01     joe@signifyd.com      PURCHASE\n",
       "1 2015-02-01  fraudster@fraud.com  FRAUD_REPORT\n",
       "2 2015-02-03  fraudster@fraud.com  FRAUD_REPORT\n",
       "3 2015-02-10     joe@signifyd.com      PURCHASE\n",
       "4 2015-02-14  fraudster@fraud.com      PURCHASE"
      ]
     },
     "execution_count": 3,
     "metadata": {},
     "output_type": "execute_result"
    }
   ],
   "source": [
    "# considering the email as the customer account ID\n",
    "df.set_axis(['date','id','event'],axis=1,inplace=True)\n",
    "df['date'] = pd.to_datetime(df['date'])\n",
    "\n",
    "df.head()"
   ]
  },
  {
   "cell_type": "markdown",
   "id": "ae1fe26e",
   "metadata": {},
   "source": [
    "<i>Now let's view the dataframe as a whole</i>"
   ]
  },
  {
   "cell_type": "code",
   "execution_count": 4,
   "id": "b7835ba1",
   "metadata": {},
   "outputs": [
    {
     "data": {
      "text/html": [
       "<div>\n",
       "<style scoped>\n",
       "    .dataframe tbody tr th:only-of-type {\n",
       "        vertical-align: middle;\n",
       "    }\n",
       "\n",
       "    .dataframe tbody tr th {\n",
       "        vertical-align: top;\n",
       "    }\n",
       "\n",
       "    .dataframe thead th {\n",
       "        text-align: right;\n",
       "    }\n",
       "</style>\n",
       "<table border=\"1\" class=\"dataframe\">\n",
       "  <thead>\n",
       "    <tr style=\"text-align: right;\">\n",
       "      <th></th>\n",
       "      <th>date</th>\n",
       "      <th>id</th>\n",
       "      <th>event</th>\n",
       "    </tr>\n",
       "  </thead>\n",
       "  <tbody>\n",
       "    <tr>\n",
       "      <th>0</th>\n",
       "      <td>2015-01-01</td>\n",
       "      <td>joe@signifyd.com</td>\n",
       "      <td>PURCHASE</td>\n",
       "    </tr>\n",
       "    <tr>\n",
       "      <th>1</th>\n",
       "      <td>2015-02-01</td>\n",
       "      <td>fraudster@fraud.com</td>\n",
       "      <td>FRAUD_REPORT</td>\n",
       "    </tr>\n",
       "    <tr>\n",
       "      <th>2</th>\n",
       "      <td>2015-02-03</td>\n",
       "      <td>fraudster@fraud.com</td>\n",
       "      <td>FRAUD_REPORT</td>\n",
       "    </tr>\n",
       "    <tr>\n",
       "      <th>3</th>\n",
       "      <td>2015-02-10</td>\n",
       "      <td>joe@signifyd.com</td>\n",
       "      <td>PURCHASE</td>\n",
       "    </tr>\n",
       "    <tr>\n",
       "      <th>4</th>\n",
       "      <td>2015-02-14</td>\n",
       "      <td>fraudster@fraud.com</td>\n",
       "      <td>PURCHASE</td>\n",
       "    </tr>\n",
       "    <tr>\n",
       "      <th>5</th>\n",
       "      <td>2015-03-15</td>\n",
       "      <td>joe@signifyd.com</td>\n",
       "      <td>PURCHASE</td>\n",
       "    </tr>\n",
       "    <tr>\n",
       "      <th>6</th>\n",
       "      <td>2015-05-01</td>\n",
       "      <td>joe@signifyd.com</td>\n",
       "      <td>PURCHASE</td>\n",
       "    </tr>\n",
       "    <tr>\n",
       "      <th>7</th>\n",
       "      <td>2015-10-01</td>\n",
       "      <td>joe@signifyd.com</td>\n",
       "      <td>PURCHASE</td>\n",
       "    </tr>\n",
       "  </tbody>\n",
       "</table>\n",
       "</div>"
      ],
      "text/plain": [
       "        date                   id         event\n",
       "0 2015-01-01     joe@signifyd.com      PURCHASE\n",
       "1 2015-02-01  fraudster@fraud.com  FRAUD_REPORT\n",
       "2 2015-02-03  fraudster@fraud.com  FRAUD_REPORT\n",
       "3 2015-02-10     joe@signifyd.com      PURCHASE\n",
       "4 2015-02-14  fraudster@fraud.com      PURCHASE\n",
       "5 2015-03-15     joe@signifyd.com      PURCHASE\n",
       "6 2015-05-01     joe@signifyd.com      PURCHASE\n",
       "7 2015-10-01     joe@signifyd.com      PURCHASE"
      ]
     },
     "execution_count": 4,
     "metadata": {},
     "output_type": "execute_result"
    }
   ],
   "source": [
    "df"
   ]
  },
  {
   "cell_type": "markdown",
   "id": "9d3b0c2f",
   "metadata": {},
   "source": [
    "<i>We can now access cell values by index and column</i>"
   ]
  },
  {
   "cell_type": "code",
   "execution_count": 5,
   "id": "4fe453f7",
   "metadata": {},
   "outputs": [],
   "source": [
    "a = df.shape\n",
    "b = df.loc[2, 'id']\n",
    "c = list(df['date'])\n",
    "d = df.loc[5]\n",
    "e = d.id\n",
    "f = d.event"
   ]
  },
  {
   "cell_type": "code",
   "execution_count": 6,
   "id": "a06e0936",
   "metadata": {},
   "outputs": [
    {
     "name": "stdout",
     "output_type": "stream",
     "text": [
      "________________\n",
      "\n",
      "The dimensions of our dataframe matrix in rows and columns: \n",
      "\n",
      "(8, 3)\n",
      "________________\n",
      "\n",
      "The email at index [2], or the third element in event history: \n",
      "\n",
      "fraudster@fraud.com\n",
      "________________\n",
      "\n",
      "A list of all dates in event history: \n",
      "\n",
      "[Timestamp('2015-01-01 00:00:00'), Timestamp('2015-02-01 00:00:00'), Timestamp('2015-02-03 00:00:00'), Timestamp('2015-02-10 00:00:00'), Timestamp('2015-02-14 00:00:00'), Timestamp('2015-03-15 00:00:00'), Timestamp('2015-05-01 00:00:00'), Timestamp('2015-10-01 00:00:00')]\n",
      "________________\n",
      "\n",
      "The information (by column) of index [5], or the sixth element in event history: \n",
      "\n",
      "date     2015-03-15 00:00:00\n",
      "id          joe@signifyd.com\n",
      "event               PURCHASE\n",
      "Name: 5, dtype: object\n",
      "________________\n",
      "\n",
      "The email of element at index [5]: \n",
      "\n",
      "joe@signifyd.com\n",
      "________________\n",
      "\n",
      "The event type of element at index [5]: \n",
      "\n",
      "PURCHASE\n",
      "________________\n",
      "\n"
     ]
    }
   ],
   "source": [
    "print('________________\\n')\n",
    "\n",
    "print('The dimensions of our dataframe matrix in rows and columns: \\n')\n",
    "print(a)\n",
    "\n",
    "print('________________\\n')\n",
    "\n",
    "print('The email at index [2], or the third element in event history: \\n')\n",
    "print(b)\n",
    "\n",
    "print('________________\\n')\n",
    "\n",
    "print('A list of all dates in event history: \\n')\n",
    "print(c)\n",
    "\n",
    "print('________________\\n')\n",
    "\n",
    "print('The information (by column) of index [5], or the sixth element in event history: \\n')\n",
    "print(d)\n",
    "\n",
    "print('________________\\n')\n",
    "\n",
    "print('The email of element at index [5]: \\n')\n",
    "print(e)\n",
    "\n",
    "print('________________\\n')\n",
    "\n",
    "print('The event type of element at index [5]: \\n')\n",
    "print(f)\n",
    "\n",
    "print('________________\\n')"
   ]
  },
  {
   "cell_type": "markdown",
   "id": "21bfc6b2",
   "metadata": {},
   "source": [
    "<i>Let's refer back to the problem description and define some constants, variables, and parameters–</i>\n",
    "\n",
    "<blockquote>\n",
    "    <p>There are two event types</p>\n",
    "    <ol>\n",
    "        <li><code>PURCHASE</code> - indicates a purchase by this customer account on the specified date.</li>\n",
    "        <li><code>FRAUD_REPORT</code> - indicates we received a report of fraud associated with this customer account. The specified date is that date that we received the report, not the date the fraud was committed.</li>\n",
    "    </ol>\n",
    "</blockquote>\n",
    "\n",
    "<i>As well as–</i>\n",
    "\n",
    "<blockquote>\n",
    "    <p>There are four possible values for the status of the customer account history:</p>\n",
    "    <ol>\n",
    "        <li><code>NO_HISTORY</code> - there are no prior events for this customer account</li>\n",
    "        <li><code>FRAUD_HISTORY</code> - we have at least one event <code>FRAUD_REPORT</code> for this customer account</li>\n",
    "        <li><code>GOOD_HISTORY</code> - customer account has no <code>FRAUD_REPORT</code> and at least one prior that <code>PURCHASE</code> is more than 90 days old</li>\n",
    "        <li><code>UNCONFIRMED_HISTORY</code> - customer account has no <code>FRAUD_REPORT</code> and at least one prior <code>PURCHASE</code> but no <code>PURCHASE</code> over 90 days old</li>\n",
    "    </ol>\n",
    "</blockquote>\n",
    "\n",
    "<i>We should also take into account the information</i>\n",
    "\n",
    "<blockquote>\n",
    "    <p>For each event <code>PURCHASE</code>, we are interested in a summary of the customer account history based on prior events. The summary consists of the date of the summary, the customer account ID, and a status.</p>\n",
    "</blockquote>\n",
    "\n",
    "<blockquote>\n",
    "    <p>For accounts with <code>FRAUD_HISTORY</code>, <code>GOOD_HISTORY</code>, and <code>UNCONFIRMED_HISTORY</code>, the status also contains a count of relevant events.</p>\n",
    "<ul style=\"list-style-type:none;\">\n",
    "    <li><code>FRAUD_HISTORY</code> - count of <code>FRAUD_REPORT</code></li>\n",
    "    <li><code>GOOD_HISTORY</code> - count of prior <code>PURCHASE</code> over 90 days old</li>\n",
    "    <li><code>UNCONFIRMED_HISTORY</code> - count of prior <code>PURCHASE</code></li>\n",
    "</ul>\n",
    "</blockquote>"
   ]
  },
  {
   "cell_type": "code",
   "execution_count": 7,
   "id": "0c0cc3a6",
   "metadata": {},
   "outputs": [
    {
     "name": "stdout",
     "output_type": "stream",
     "text": [
      "{'NO_HISTORY': [], 'FRAUD_HISTORY': [], 'GOOD_HISTORY': [], 'UNCONFIRMED_HISTORY': []}\n"
     ]
    }
   ],
   "source": [
    "# event types\n",
    "\n",
    "PURCHASE = 'PURCHASE'\n",
    "FRAUD_REPORT = 'FRAUD_REPORT'\n",
    "\n",
    "\n",
    "# customer account history status dictionary\n",
    "\n",
    "CAH = dict.fromkeys(['NO_HISTORY','FRAUD_HISTORY',\n",
    "                           'GOOD_HISTORY', 'UNCONFIRMED_HISTORY'])\n",
    "\n",
    "# CAH keys created with empty values, initialize as lists\n",
    "\n",
    "for key in CAH:\n",
    "    CAH[key] = []\n",
    "    \n",
    "print(CAH)"
   ]
  },
  {
   "cell_type": "code",
   "execution_count": 8,
   "id": "07539c3a",
   "metadata": {},
   "outputs": [
    {
     "name": "stdout",
     "output_type": "stream",
     "text": [
      "{'NO_HISTORY': ['joe@signifyd.com', 'fraudster@fraud.com'], 'FRAUD_HISTORY': [], 'GOOD_HISTORY': [], 'UNCONFIRMED_HISTORY': []}\n"
     ]
    }
   ],
   "source": [
    "# create a list from restricted set of all customer account IDs\n",
    "# initialize them to NO_HISTORY\n",
    "\n",
    "for ID in list(set(df['id'])):\n",
    "    CAH['NO_HISTORY'].append(ID)\n",
    "        \n",
    "print(CAH)"
   ]
  },
  {
   "cell_type": "code",
   "execution_count": 9,
   "id": "3362884e",
   "metadata": {},
   "outputs": [
    {
     "data": {
      "text/html": [
       "<div>\n",
       "<style scoped>\n",
       "    .dataframe tbody tr th:only-of-type {\n",
       "        vertical-align: middle;\n",
       "    }\n",
       "\n",
       "    .dataframe tbody tr th {\n",
       "        vertical-align: top;\n",
       "    }\n",
       "\n",
       "    .dataframe thead th {\n",
       "        text-align: right;\n",
       "    }\n",
       "</style>\n",
       "<table border=\"1\" class=\"dataframe\">\n",
       "  <thead>\n",
       "    <tr style=\"text-align: right;\">\n",
       "      <th></th>\n",
       "      <th>joe@signifyd.com</th>\n",
       "      <th>fraudster@fraud.com</th>\n",
       "    </tr>\n",
       "  </thead>\n",
       "  <tbody>\n",
       "    <tr>\n",
       "      <th>fraud_history</th>\n",
       "      <td>0.0</td>\n",
       "      <td>0.0</td>\n",
       "    </tr>\n",
       "    <tr>\n",
       "      <th>good_history</th>\n",
       "      <td>0.0</td>\n",
       "      <td>0.0</td>\n",
       "    </tr>\n",
       "    <tr>\n",
       "      <th>unconfirmed_history</th>\n",
       "      <td>0.0</td>\n",
       "      <td>0.0</td>\n",
       "    </tr>\n",
       "  </tbody>\n",
       "</table>\n",
       "</div>"
      ],
      "text/plain": [
       "                     joe@signifyd.com  fraudster@fraud.com\n",
       "fraud_history                     0.0                  0.0\n",
       "good_history                      0.0                  0.0\n",
       "unconfirmed_history               0.0                  0.0"
      ]
     },
     "execution_count": 9,
     "metadata": {},
     "output_type": "execute_result"
    }
   ],
   "source": [
    "# create a dataframe to hold an empty matrix to track activity\n",
    "\n",
    "import numpy as np\n",
    "\n",
    "IDlist = list(set(df['id']))\n",
    "df2 = pd.DataFrame(np.zeros(shape=(3, len(IDlist))), columns=IDlist,\n",
    "                   index=['fraud_history', 'good_history', 'unconfirmed_history'])\n",
    "\n",
    "df2"
   ]
  },
  {
   "cell_type": "markdown",
   "id": "54563c2d",
   "metadata": {},
   "source": [
    "<i>Let's create a date dictionary with customer account IDs as keys, and pair them with lists holding dates of purchase</i>"
   ]
  },
  {
   "cell_type": "code",
   "execution_count": 10,
   "id": "0c05f3dc",
   "metadata": {},
   "outputs": [
    {
     "name": "stdout",
     "output_type": "stream",
     "text": [
      "{'joe@signifyd.com': [], 'fraudster@fraud.com': []}\n"
     ]
    }
   ],
   "source": [
    "datedict = dict.fromkeys(list(df['id']))\n",
    "\n",
    "for key in datedict:\n",
    "    datedict[key] = []\n",
    "\n",
    "print(datedict)"
   ]
  },
  {
   "cell_type": "code",
   "execution_count": 11,
   "id": "58c0b11c",
   "metadata": {},
   "outputs": [],
   "source": [
    "def classify(index):\n",
    "    \n",
    "    ID = df.iloc[index].id\n",
    "    event = df.iloc[index].event\n",
    "    date = df.iloc[index].date\n",
    "    \n",
    "    if event == PURCHASE:\n",
    "        updateDate(index)\n",
    "        \n",
    "        if ID in CAH['NO_HISTORY']:\n",
    "            CAH['NO_HISTORY'].remove(ID)\n",
    "            CAH['UNCONFIRMED_HISTORY'].append(ID)\n",
    "            \n",
    "    elif event == FRAUD_REPORT:\n",
    "        \n",
    "        if ID in CAH['NO_HISTORY']:\n",
    "            CAH['NO_HISTORY'].remove(ID)\n",
    "            CAH['FRAUD_HISTORY'].append(ID)\n",
    "            \n",
    "            # add fraud_history instance\n",
    "            df2.loc['fraud_history', ID] += 1\n",
    "            \n",
    "        elif ID in CAH['FRAUD_HISTORY']:\n",
    "            # add fraud_history instance\n",
    "            df2.loc['fraud_history', ID] += 1\n",
    "\n",
    "        elif ID in CAH['GOOD_HISTORY']:\n",
    "            CAH['GOOD_HISTORY'].remove(ID)\n",
    "            if ID not in CAH['FRAUD_HISTORY']:        \n",
    "                CAH['FRAUD_HISTORY'].append(ID)\n",
    "            \n",
    "            # add fraud_history instance\n",
    "            df2.loc['fraud_history', ID] += 1\n",
    "            \n",
    "        elif ID in CAH['UNCONFIRMED_HISTORY']:\n",
    "            CAH['UNCONFIRMED_HISTORY'].remove(ID)\n",
    "            if ID not in CAH['FRAUD_HISTORY']:\n",
    "                CAH['FRAUD_HISTORY'].append(ID)\n",
    "            \n",
    "            # add fraud_history instance\n",
    "            df2.loc['fraud_history', ID] += 1\n",
    "\n",
    "    else:\n",
    "        CAH['NO_HISTORY'].append(ID)"
   ]
  },
  {
   "cell_type": "code",
   "execution_count": 12,
   "id": "c29b2c99",
   "metadata": {},
   "outputs": [],
   "source": [
    "def printStatus(index):\n",
    "    ID = df.iloc[index].id\n",
    "    date = df.iloc[index].date\n",
    "    \n",
    "    if ID in CAH['NO_HISTORY']:\n",
    "        print(str(date.date()) + ',' + ID + ',' + 'NO_HISTORY')\n",
    "            \n",
    "    elif ID in CAH['FRAUD_HISTORY']:\n",
    "        print(str(date.date()) + ',' + ID + ',' + 'FRAUD_HISTORY:' \n",
    "              + str(df2.loc['fraud_history', ID]))\n",
    "\n",
    "    elif ID in CAH['GOOD_HISTORY']:\n",
    "        print(str(date.date()) + ',' + ID + ',' + 'GOOD_HISTORY:' \n",
    "              + str(df2.loc['good_history', ID]))\n",
    "            \n",
    "    elif ID in CAH['UNCONFIRMED_HISTORY']:\n",
    "        print(str(date.date()) + ',' + ID + ',' + 'UNCONFIRMED_HISTORY:' \n",
    "              + str(df2.loc['unconfirmed_history', ID]))\n",
    "        "
   ]
  },
  {
   "cell_type": "code",
   "execution_count": 13,
   "id": "09b6e99f",
   "metadata": {},
   "outputs": [],
   "source": [
    "import datetime\n",
    "\n",
    "def updateDate(index):\n",
    "    ID = df.iloc[index].id\n",
    "    currdate = df.iloc[index].date\n",
    "\n",
    "    if ID not in CAH['FRAUD_HISTORY']:\n",
    "        if(len(datedict[ID]) > 0):\n",
    "            for date in datedict[ID]:\n",
    "                if(currdate - date) > datetime.timedelta(days=90):\n",
    "                    df2.loc['unconfirmed_history', ID] -= 1\n",
    "                    df2.loc['good_history', ID] += 1\n",
    "                    datedict[ID].remove(date)\n",
    "\n",
    "                    if ID not in CAH['GOOD_HISTORY']:\n",
    "                        CAH['GOOD_HISTORY'].append(ID)\n",
    "                    if ID in CAH['UNCONFIRMED_HISTORY']:\n",
    "                        CAH['UNCONFIRMED_HISTORY'].remove(ID)\n",
    "\n",
    "    printStatus(index)\n",
    "    \n",
    "    datedict[ID].append(currdate)            \n",
    "    df2.loc['unconfirmed_history', ID] += 1\n",
    "    \n",
    "  "
   ]
  },
  {
   "cell_type": "code",
   "execution_count": 14,
   "id": "3a59d4c2",
   "metadata": {},
   "outputs": [
    {
     "name": "stdout",
     "output_type": "stream",
     "text": [
      "2015-01-01,joe@signifyd.com,NO_HISTORY\n",
      "2015-02-10,joe@signifyd.com,UNCONFIRMED_HISTORY:1.0\n",
      "2015-02-14,fraudster@fraud.com,FRAUD_HISTORY:2.0\n",
      "2015-03-15,joe@signifyd.com,UNCONFIRMED_HISTORY:2.0\n",
      "2015-05-01,joe@signifyd.com,GOOD_HISTORY:1.0\n",
      "2015-10-01,joe@signifyd.com,GOOD_HISTORY:3.0\n"
     ]
    }
   ],
   "source": [
    "for i in range(len(list(df['date']))):\n",
    "    classify(i)"
   ]
  },
  {
   "cell_type": "markdown",
   "id": "705fc5ce",
   "metadata": {},
   "source": [
    "<p>We seem to have encountered anomaly. There must be a discrepancy between what the datetime library considers a difference of 90 days; we will test this by viewing <code>datedict</code></p>\n",
    "\n",
    "<p>We have already removed history of all purchases considered 'good' so as not to further interfere with our event tally dataframe in the <code>updateDate</code> function, so we will also analyze <code>df2</code> to confirm which entry is troubling us.</p> "
   ]
  },
  {
   "cell_type": "code",
   "execution_count": 15,
   "id": "aadda7d9",
   "metadata": {},
   "outputs": [
    {
     "data": {
      "text/plain": [
       "{'joe@signifyd.com': [Timestamp('2015-03-15 00:00:00'),\n",
       "  Timestamp('2015-10-01 00:00:00')],\n",
       " 'fraudster@fraud.com': [Timestamp('2015-02-14 00:00:00')]}"
      ]
     },
     "execution_count": 15,
     "metadata": {},
     "output_type": "execute_result"
    }
   ],
   "source": [
    "datedict"
   ]
  },
  {
   "cell_type": "code",
   "execution_count": 16,
   "id": "014eb3ea",
   "metadata": {},
   "outputs": [
    {
     "data": {
      "text/html": [
       "<div>\n",
       "<style scoped>\n",
       "    .dataframe tbody tr th:only-of-type {\n",
       "        vertical-align: middle;\n",
       "    }\n",
       "\n",
       "    .dataframe tbody tr th {\n",
       "        vertical-align: top;\n",
       "    }\n",
       "\n",
       "    .dataframe thead th {\n",
       "        text-align: right;\n",
       "    }\n",
       "</style>\n",
       "<table border=\"1\" class=\"dataframe\">\n",
       "  <thead>\n",
       "    <tr style=\"text-align: right;\">\n",
       "      <th></th>\n",
       "      <th>joe@signifyd.com</th>\n",
       "      <th>fraudster@fraud.com</th>\n",
       "    </tr>\n",
       "  </thead>\n",
       "  <tbody>\n",
       "    <tr>\n",
       "      <th>fraud_history</th>\n",
       "      <td>0.0</td>\n",
       "      <td>2.0</td>\n",
       "    </tr>\n",
       "    <tr>\n",
       "      <th>good_history</th>\n",
       "      <td>3.0</td>\n",
       "      <td>0.0</td>\n",
       "    </tr>\n",
       "    <tr>\n",
       "      <th>unconfirmed_history</th>\n",
       "      <td>2.0</td>\n",
       "      <td>1.0</td>\n",
       "    </tr>\n",
       "  </tbody>\n",
       "</table>\n",
       "</div>"
      ],
      "text/plain": [
       "                     joe@signifyd.com  fraudster@fraud.com\n",
       "fraud_history                     0.0                  2.0\n",
       "good_history                      3.0                  0.0\n",
       "unconfirmed_history               2.0                  1.0"
      ]
     },
     "execution_count": 16,
     "metadata": {},
     "output_type": "execute_result"
    }
   ],
   "source": [
    "df2"
   ]
  },
  {
   "cell_type": "markdown",
   "id": "9183df27",
   "metadata": {},
   "source": [
    "<p>This confirms our suspcions– there is a indeed a discrepancy in the performance of the library. An error occurs in the fifth index of the eigth (final) iteration of this loop\n",
    "    \n",
    "    <code>\n",
    "        \n",
    "        for date in datedict[ID]:\n",
    "                if(currdate - date) > datetime.timedelta(days=90):\n",
    "                    df2.loc['unconfirmed_history', ID] -= 1\n",
    "                    df2.loc['good_history', ID] += 1\n",
    "                    datedict[ID].remove(date)\n",
    "\n",
    "                    if ID not in CAH['GOOD_HISTORY']:\n",
    "                        CAH['GOOD_HISTORY'].append(ID)\n",
    "                    if ID in CAH['UNCONFIRMED_HISTORY']:\n",
    "                        CAH['UNCONFIRMED_HISTORY'].remove(ID)\n",
    "    </code></p>\n",
    "    \n",
    "<p>When date <code>2015-03-15</code> is being compared to <code>2015-10-01</code>, the boolean returned from</p>\n",
    "\n",
    "<code>if(currdate - date) > datetime.timedelta(days=90)</code>\n",
    " \n",
    "<p>is not evaluated as true, thus does not go on to perform an addition and subtraction of the <code>good_history</code> and <code>unconfirmed_history</code> respectively, owing to the discrepant values in the event tally dataframe</p>"
   ]
  },
  {
   "cell_type": "markdown",
   "id": "7478ceeb",
   "metadata": {},
   "source": [
    "<p>For the current scope of the project, we will overlook this bug, however a compacted and optimized version of this code along with an export to csv is provided in the <a href=\"fraud-tracer-compact.ipynb\"><code>fraud-tracer-compact</code></a> file.</p>"
   ]
  },
  {
   "cell_type": "code",
   "execution_count": null,
   "id": "84cc5c1e",
   "metadata": {},
   "outputs": [],
   "source": []
  }
 ],
 "metadata": {
  "kernelspec": {
   "display_name": "Python 3 (ipykernel)",
   "language": "python",
   "name": "python3"
  },
  "language_info": {
   "codemirror_mode": {
    "name": "ipython",
    "version": 3
   },
   "file_extension": ".py",
   "mimetype": "text/x-python",
   "name": "python",
   "nbconvert_exporter": "python",
   "pygments_lexer": "ipython3",
   "version": "3.10.4"
  }
 },
 "nbformat": 4,
 "nbformat_minor": 5
}
